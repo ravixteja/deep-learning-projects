{
 "cells": [
  {
   "cell_type": "markdown",
   "id": "4f5b3dcc",
   "metadata": {},
   "source": [
    "# In this notebook, we will compare the preformance (accuracy) of models built"
   ]
  },
  {
   "cell_type": "code",
   "execution_count": 26,
   "id": "a396f7fa",
   "metadata": {},
   "outputs": [],
   "source": [
    "import torch\n",
    "import torch.nn as nn\n",
    "\n",
    "from pathlib import Path\n",
    "MODELS_PATH = Path(\"../checkpoints\")\n",
    "\n",
    "import matplotlib.pyplot as plt"
   ]
  },
  {
   "cell_type": "code",
   "execution_count": 34,
   "id": "445798a5",
   "metadata": {},
   "outputs": [],
   "source": [
    "MODELS = []\n",
    "state_dicts = []\n",
    "\n",
    "MODEL_1_NAME = \"PRIMITIVE_CNN.pt\"\n",
    "MODEL_1_PATH = MODELS_PATH/MODEL_1_NAME\n",
    "state_dict_1 = torch.load(f=MODEL_1_PATH)\n",
    "state_dicts.append(state_dict_1)\n",
    "MODELS.append(MODEL_1_NAME)\n",
    "\n",
    "MODEL_2_NAME = \"CNN1_1.pt\"\n",
    "MODEL_2_PATH = MODELS_PATH/MODEL_2_NAME\n",
    "state_dict_2 = torch.load(f=MODEL_2_PATH)\n",
    "state_dicts.append(state_dict_2)\n",
    "MODELS.append(MODEL_2_NAME)\n",
    "\n",
    "MODEL_3_NAME = \"CNN1_2.pt\"\n",
    "MODEL_3_PATH = MODELS_PATH/MODEL_3_NAME\n",
    "state_dict_3 = torch.load(f=MODEL_3_PATH)\n",
    "state_dicts.append(state_dict_3)\n",
    "MODELS.append(MODEL_3_NAME)\n",
    "\n",
    "MODEL_4_NAME = \"CNN2_1.pt\"\n",
    "MODEL_4_PATH = MODELS_PATH/MODEL_4_NAME\n",
    "state_dict_4 = torch.load(f=MODEL_4_PATH)\n",
    "state_dicts.append(state_dict_4)\n",
    "MODELS.append(MODEL_4_NAME)\n",
    "\n",
    "MODEL_5_NAME = \"CNN2_2.pt\"\n",
    "MODEL_5_PATH = MODELS_PATH/MODEL_5_NAME\n",
    "state_dict_5 = torch.load(f=MODEL_5_PATH)\n",
    "state_dicts.append(state_dict_5)\n",
    "MODELS.append(MODEL_5_NAME)\n",
    "\n",
    "MODEL_6_NAME = \"CNN3_(0.7_dropout).pt\"\n",
    "MODEL_6_PATH = MODELS_PATH/MODEL_6_NAME\n",
    "state_dict_6 = torch.load(f=MODEL_6_PATH)\n",
    "state_dicts.append(state_dict_6)\n",
    "MODELS.append(MODEL_6_NAME)\n",
    "\n",
    "MODEL_7_NAME = \"CNN3_(2x_bs_lr).pt\"\n",
    "MODEL_7_PATH = MODELS_PATH/MODEL_7_NAME\n",
    "state_dict_7 = torch.load(f=MODEL_7_PATH)\n",
    "state_dicts.append(state_dict_7)\n",
    "MODELS.append(MODEL_7_NAME)\n",
    "\n",
    "MODEL_8_NAME = \"CNN3_(Batchsize128_LR0.004_40EPOCHS).pt\"\n",
    "MODEL_8_PATH = MODELS_PATH/MODEL_8_NAME\n",
    "state_dict_8 = torch.load(f=MODEL_8_PATH)\n",
    "state_dicts.append(state_dict_8)\n",
    "MODELS.append(MODEL_8_NAME)\n",
    "\n",
    "MODEL_9_NAME = \"CNN3_1.pt\"\n",
    "MODEL_9_PATH = MODELS_PATH/MODEL_9_NAME\n",
    "state_dict_9 = torch.load(f=MODEL_9_PATH)\n",
    "state_dicts.append(state_dict_9)\n",
    "MODELS.append(MODEL_9_NAME)"
   ]
  },
  {
   "cell_type": "code",
   "execution_count": 35,
   "id": "ec86ef6b",
   "metadata": {},
   "outputs": [],
   "source": [
    "accuracies = []\n",
    "for state_dict in state_dicts:\n",
    "    accuracies.append(state_dict['accuracies'][-1])"
   ]
  },
  {
   "cell_type": "code",
   "execution_count": 36,
   "id": "4c80b1c5",
   "metadata": {},
   "outputs": [
    {
     "data": {
      "text/plain": [
       "[0.9552666666666667,\n",
       " 0.9696166666666667,\n",
       " 0.9696166666666667,\n",
       " 0.9986,\n",
       " 0.9989166666666667,\n",
       " 0.9889666666666667,\n",
       " 0.9874833333333334,\n",
       " 0.9846666666666667,\n",
       " 0.995]"
      ]
     },
     "execution_count": 36,
     "metadata": {},
     "output_type": "execute_result"
    }
   ],
   "source": [
    "accuracies"
   ]
  },
  {
   "cell_type": "code",
   "execution_count": 51,
   "id": "9f218e15",
   "metadata": {},
   "outputs": [
    {
     "data": {
      "image/png": "[encoded data removed]",
      "text/plain": [
       "<Figure size 800x450 with 1 Axes>"
      ]
     },
     "metadata": {},
     "output_type": "display_data"
    }
   ],
   "source": [
    "plt.figure(figsize=(8,4.5))\n",
    "bars = plt.bar(range(1,len(accuracies)+1), accuracies)\n",
    "plt.xticks(range(1,len(accuracies)+1))\n",
    "plt.ylabel(\"Accuracy\")\n",
    "plt.title(\"Accuracies of different models trained\", fontsize=16, fontweight=\"bold\")\n",
    "\n",
    "for bar in bars:\n",
    "    height = bar.get_height()\n",
    "    plt.text(bar.get_x() + bar.get_width()/2,\n",
    "             height, f'{height:.4f}', ha='center', va='bottom')"
   ]
  },
  {
   "cell_type": "markdown",
   "id": "3dd2d55c",
   "metadata": {},
   "source": [
    "We see that most of the models perform well, with all of them achieving more than 95% accuracies."
   ]
  },
  {
   "cell_type": "code",
   "execution_count": 56,
   "id": "af485043",
   "metadata": {},
   "outputs": [
    {
     "name": "stdout",
     "output_type": "stream",
     "text": [
      "The best model among the trained ones is CNN2_2.pt\n",
      "saved in the '../checkpoints' directory\n"
     ]
    }
   ],
   "source": [
    "# select best model\n",
    "best_model_index = accuracies.index(max(accuracies))\n",
    "best_model = MODELS[best_model_index]\n",
    "\n",
    "print(f\"The best model among the trained ones is {best_model}\\nsaved in the '../checkpoints' directory\")"
   ]
  },
  {
   "cell_type": "markdown",
   "id": "b6b73338",
   "metadata": {},
   "source": [
    "### save the best model as `best_model.pt`"
   ]
  },
  {
   "cell_type": "code",
   "execution_count": 58,
   "id": "b604845e",
   "metadata": {},
   "outputs": [
    {
     "name": "stdout",
     "output_type": "stream",
     "text": [
      "Saving the best model selected...\n",
      "Model saved successfully to ../checkpoints/best_model.pt\n"
     ]
    }
   ],
   "source": [
    "print(\"Saving the best model selected...\")\n",
    "\n",
    "BEST_MODEL_NAME = \"best_model.pt\"\n",
    "MODEL_SAVE_PATH = MODELS_PATH/BEST_MODEL_NAME\n",
    "torch.save(obj=state_dicts[best_model_index],\n",
    "           f=MODEL_SAVE_PATH)\n",
    "\n",
    "print(f\"Model saved successfully to {MODEL_SAVE_PATH}\")"
   ]
  },
  {
   "cell_type": "code",
   "execution_count": null,
   "id": "e0722016",
   "metadata": {},
   "outputs": [],
   "source": []
  }
 ],
 "metadata": {
  "kernelspec": {
   "display_name": "myenv",
   "language": "python",
   "name": "python3"
  },
  "language_info": {
   "codemirror_mode": {
    "name": "ipython",
    "version": 3
   },
   "file_extension": ".py",
   "mimetype": "text/x-python",
   "name": "python",
   "nbconvert_exporter": "python",
   "pygments_lexer": "ipython3",
   "version": "3.10.12"
  }
 },
 "nbformat": 4,
 "nbformat_minor": 5
}

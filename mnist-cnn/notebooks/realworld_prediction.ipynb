{
 "cells": [
  {
   "cell_type": "code",
   "execution_count": null,
   "id": "588c4bc8",
   "metadata": {},
   "outputs": [],
   "source": [
    "# Load the original image using Pillow\n",
    "from PIL import Image, ImageOps\n",
    "org_image = Image.open(\"../ravi-handwritten-digits/2.jpg\")\n",
    "\n",
    "# Define a transform pipeline to convert to grayscale\n",
    "# num_output_channels=1 ensures it's a single-channel image\n",
    "transform_to_gray = transforms.Compose([\n",
    "    transforms.Grayscale(num_output_channels=1),\n",
    "    transforms.Resize((28, 28)),\n",
    "    # transforms.Lambda(lambda img: ImageOps.invert(img)),\n",
    "    transforms.ToTensor(),\n",
    "    transforms.Normalize((0.1307,), (0.3081,))\n",
    "])\n",
    "\n",
    "# Apply the transformation\n",
    "grayscale_tensor = transform_to_gray(org_image)"
   ]
  }
 ],
 "metadata": {
  "language_info": {
   "name": "python"
  }
 },
 "nbformat": 4,
 "nbformat_minor": 5
}
